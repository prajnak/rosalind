{
 "cells": [
  {
   "cell_type": "code",
   "execution_count": 3,
   "metadata": {
    "collapsed": false
   },
   "outputs": [
    {
     "name": "stdout",
     "output_type": "stream",
     "text": [
      "Counter({'G': 244, 'C': 241, 'A': 237, 'T': 227})\n"
     ]
    }
   ],
   "source": [
    "import collections\n",
    "\n",
    "def readff(filenm):\n",
    "    ff = open(filenm, 'r')\n",
    "    ss = ff.read()\n",
    "    ss = ss.replace('\\n', '')\n",
    "    return ss\n",
    "\n",
    "occur = collections.Counter(readff('rosalind_dna.txt'))\n",
    "\n",
    "print occur"
   ]
  },
  {
   "cell_type": "code",
   "execution_count": 4,
   "metadata": {
    "collapsed": true
   },
   "outputs": [],
   "source": [
    "def dna2rna(dna):\n",
    "    rna = dna.replace('T', 'U')\n",
    "    return rna"
   ]
  },
  {
   "cell_type": "code",
   "execution_count": 8,
   "metadata": {
    "collapsed": false,
    "scrolled": true
   },
   "outputs": [
    {
     "data": {
      "text/plain": [
       "'UCCGUUACAGAGUAGGUUAGUCAGUCUGGUCACGACACAUUCAAUUUCCACGUACUCUUGUUGGCCUACAGAUCAUACUUGUUGAUGGUAUUCAUAGCAUAGCAAUGCUUUAAACGUUCCUGCCUGGUGCCUAGGCCGUGUUAUCCGCGUGAGUGGGAAAAUCCCCCCAGUAUAUGUAUUGGCUUUUCUACUUUCAUGCUACGCUUUGGGCGUGGCGCCCACAGACGUAUUAAAUCAUGCGGAAAAUAAAGAGUUGUUCUACCACGGAUGUGUUCUCGGCAGGAGUUGCAUCGACCAAAGCCUACUAUACACCCAGUUAUCGUCUAGCUCCCUACGCUGCAGUGGAAGCAGAACACACGUCGAGUGAGAACUCCUUCGUUUCUUACGAGAAAAGUGUUAAUUUACAACGGCAGCGAUUCUUGCUGGGUAGACUGGCCACGAGAUAGCUCAUGAGAUCACCAACUUACCCAGUGCUAGCAGCCCCAAUGAACCCGUCUUAGACCAGACCUAGAGUUCAUCAUGGGGUCUAACACUACGUACCCGAGAAGCGUGCCCGGACACUAACUACUAAAGCAAUGUAGACAUGCUCUCGUGUAGUUUCACCCAUUCUGGGUGAAAGCCAACGAGUCCGAAUAGAAUUACAUUCCCAGGGUACAUGUUGUCCAAUGCGUUUAUUCAGAGACAACAAUGCACGUCACGCCACUACGGCAUCGGGUGACUGAUUUUUGGGGCGAACACGUAUCCCAACUGCAUGAUACUAAAGAUCAGUGCUAGUCAGGGCGGUUACAAACGCAGUUGUCUGUACCGAAGCACCAGGCAUUCGAGGCCUUUGUACAUGUGUGUCUAGUUUUGUUCAAUUGAGGGUCCCUCUUUCAGCAACGUGCUGUCCUGGCAUGCCGCGGAGUUUAUACGACCUUCGUUAUGGGCGAGCGGCUACCUAAGC'"
      ]
     },
     "execution_count": 8,
     "metadata": {},
     "output_type": "execute_result"
    }
   ],
   "source": [
    "dna2rna(readff('rosalind_rna.txt'))"
   ]
  },
  {
   "cell_type": "code",
   "execution_count": 12,
   "metadata": {
    "collapsed": false
   },
   "outputs": [
    {
     "name": "stdout",
     "output_type": "stream",
     "text": [
      "CGTACCCCCCACGTTTTCTTTCGTACTTAAACCGTGTTCACACCACGCAACCCTTACTCTTTGAGGAGTTCCTGCCAGCTCCTGCGGAAGGCCGAGTCCGAAGTCTGCCATTTAAGGGAAGTAAGGGTCGAGTTATCCATACATTGGCCTACCCATTCCAGCCCGCATCATGGTTTTGTTAGGTAGCTTATGGGCAAGAGCCGATATCGACCAAGTAGACTGTAAAGGAGGGGGACTGGGGTCCCAGTTAAAAAGGCCTTGAATCTATTTTAATCTGCTTCTGAATGTGGTAGTCAGGATAAAAAACCGGCTCAATAAAACTGGGTCGCGCCCAGTAGTTGTTTTGAGGGGTACCGCTACACCGGCCACCTCCGCACACCGCCTTAGGTAGCGATTCGATTTGAAGGGCGGGTCGTCTTGCTCCATCAAAGCTTCGGGGTAGAGTTCGCCTTGTGTTGTCATTTCTCCTGGTCGGAGAAAACTAAGATGAGAACAATCGCAAGTGCGCCTACCCGTATCCGCGAAAAAGACGGTAGTGGGGGCTCCCTTCTATTGGTTTATCTTTTCCTAGCCTAAGGATATACCCCAACTTCCGGATCCAGAGTAAGCAGGGTCTATGATCAAGTCAAGAAATGTTGTTCCCTCTCTGGGAGATCTTTCCAAATCCCTTCCGCGGGGAAACTCACATGATCTATGTCGGTAGCTAACCTGGGAAGGGAGCCGGAACACGGGCAAAGGGGCCAGGGGTAGCAGCCTCGAACCGACCATTCGTCCGGGCATACAGACGCATGCCCGTTCCTGCGGTGAAGGAAGAATTCCTAAGTGGTGCCATCCAGCTTACCGATCTACAACTAGCTATAACGAGCTGCCCACAAATTACGTACGCTCACGTGATGACTTATTACGGGTCGGAACGCCTACTGGCTTGCTGGTTTGTACAATTTCTTTC\n"
     ]
    }
   ],
   "source": [
    "def revc(dna):\n",
    "    dna_rev = dna[::-1] # extended slice - begin:end:step\n",
    "    revc_str = ''\n",
    "    for char in dna_rev:\n",
    "        if char == 'A':\n",
    "            revc_str += 'T'\n",
    "        elif char == 'T':\n",
    "            revc_str += 'A'\n",
    "        elif char == 'G':\n",
    "            revc_str += 'C'\n",
    "        else:\n",
    "            revc_str += 'G'\n",
    "    return revc_str\n",
    "\n",
    "print(revc(readff('rosalind_dna.txt')))"
   ]
  }
 ],
 "metadata": {
  "kernelspec": {
   "display_name": "Python 2",
   "language": "python",
   "name": "python2"
  },
  "language_info": {
   "codemirror_mode": {
    "name": "ipython",
    "version": 2
   },
   "file_extension": ".py",
   "mimetype": "text/x-python",
   "name": "python",
   "nbconvert_exporter": "python",
   "pygments_lexer": "ipython2",
   "version": "2.7.12"
  }
 },
 "nbformat": 4,
 "nbformat_minor": 1
}
