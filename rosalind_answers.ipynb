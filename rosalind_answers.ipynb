{
 "cells": [
  {
   "cell_type": "code",
   "execution_count": 4,
   "metadata": {
    "collapsed": false
   },
   "outputs": [
    {
     "name": "stdout",
     "output_type": "stream",
     "text": [
      "Counter({'G': 244, 'C': 241, 'A': 237, 'T': 227})\n"
     ]
    }
   ],
   "source": [
    "import collections\n",
    "\n",
    "def readff(filenm):\n",
    "    ff = open(filenm, 'r')\n",
    "    ss = ff.read()\n",
    "    ss = ss.replace('\\n', '')\n",
    "    return ss\n",
    "\n",
    "occur = collections.Counter(readff('rosalind_dna.txt'))\n",
    "\n",
    "print occur"
   ]
  },
  {
   "cell_type": "code",
   "execution_count": 5,
   "metadata": {
    "collapsed": true
   },
   "outputs": [],
   "source": [
    "def dna2rna(dna):\n",
    "    rna = dna.replace('T', 'U')\n",
    "    return rna"
   ]
  },
  {
   "cell_type": "code",
   "execution_count": 6,
   "metadata": {
    "collapsed": false
   },
   "outputs": [
    {
     "data": {
      "text/plain": [
       "'UCCGUUACAGAGUAGGUUAGUCAGUCUGGUCACGACACAUUCAAUUUCCACGUACUCUUGUUGGCCUACAGAUCAUACUUGUUGAUGGUAUUCAUAGCAUAGCAAUGCUUUAAACGUUCCUGCCUGGUGCCUAGGCCGUGUUAUCCGCGUGAGUGGGAAAAUCCCCCCAGUAUAUGUAUUGGCUUUUCUACUUUCAUGCUACGCUUUGGGCGUGGCGCCCACAGACGUAUUAAAUCAUGCGGAAAAUAAAGAGUUGUUCUACCACGGAUGUGUUCUCGGCAGGAGUUGCAUCGACCAAAGCCUACUAUACACCCAGUUAUCGUCUAGCUCCCUACGCUGCAGUGGAAGCAGAACACACGUCGAGUGAGAACUCCUUCGUUUCUUACGAGAAAAGUGUUAAUUUACAACGGCAGCGAUUCUUGCUGGGUAGACUGGCCACGAGAUAGCUCAUGAGAUCACCAACUUACCCAGUGCUAGCAGCCCCAAUGAACCCGUCUUAGACCAGACCUAGAGUUCAUCAUGGGGUCUAACACUACGUACCCGAGAAGCGUGCCCGGACACUAACUACUAAAGCAAUGUAGACAUGCUCUCGUGUAGUUUCACCCAUUCUGGGUGAAAGCCAACGAGUCCGAAUAGAAUUACAUUCCCAGGGUACAUGUUGUCCAAUGCGUUUAUUCAGAGACAACAAUGCACGUCACGCCACUACGGCAUCGGGUGACUGAUUUUUGGGGCGAACACGUAUCCCAACUGCAUGAUACUAAAGAUCAGUGCUAGUCAGGGCGGUUACAAACGCAGUUGUCUGUACCGAAGCACCAGGCAUUCGAGGCCUUUGUACAUGUGUGUCUAGUUUUGUUCAAUUGAGGGUCCCUCUUUCAGCAACGUGCUGUCCUGGCAUGCCGCGGAGUUUAUACGACCUUCGUUAUGGGCGAGCGGCUACCUAAGC'"
      ]
     },
     "execution_count": 6,
     "metadata": {},
     "output_type": "execute_result"
    }
   ],
   "source": [
    "dna2rna(readff('rosalind_rna.txt'))"
   ]
  }
 ],
 "metadata": {
  "kernelspec": {
   "display_name": "Python 2",
   "language": "python",
   "name": "python2"
  },
  "language_info": {
   "codemirror_mode": {
    "name": "ipython",
    "version": 2
   },
   "file_extension": ".py",
   "mimetype": "text/x-python",
   "name": "python",
   "nbconvert_exporter": "python",
   "pygments_lexer": "ipython2",
   "version": "2.7.12"
  }
 },
 "nbformat": 4,
 "nbformat_minor": 1
}
